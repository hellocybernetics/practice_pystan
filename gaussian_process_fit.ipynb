{
  "nbformat": 4,
  "nbformat_minor": 0,
  "metadata": {
    "colab": {
      "name": "gaussian_process_fit.ipynb",
      "version": "0.3.2",
      "provenance": [],
      "collapsed_sections": [],
      "include_colab_link": true
    },
    "kernelspec": {
      "name": "python3",
      "display_name": "Python 3"
    }
  },
  "cells": [
    {
      "cell_type": "markdown",
      "metadata": {
        "id": "view-in-github",
        "colab_type": "text"
      },
      "source": [
        "<a href=\"https://colab.research.google.com/github/hellocybernetics/practice_pystan/blob/master/gaussian_process_fit.ipynb\" target=\"_parent\"><img src=\"https://colab.research.google.com/assets/colab-badge.svg\" alt=\"Open In Colab\"/></a>"
      ]
    },
    {
      "metadata": {
        "id": "duHn2M_HjOlm",
        "colab_type": "code",
        "colab": {
          "base_uri": "https://localhost:8080/",
          "height": 199
        },
        "outputId": "d5ae1a11-e191-45e2-dff5-091ab88523a5"
      },
      "cell_type": "code",
      "source": [
        "!pip install pystan"
      ],
      "execution_count": 1,
      "outputs": [
        {
          "output_type": "stream",
          "text": [
            "Collecting pystan\n",
            "\u001b[?25l  Downloading https://files.pythonhosted.org/packages/49/f9/106f3db81cf4da1be937a11b63f400d072718662f3fd1349ea7f0458aa0f/pystan-2.18.0.0-cp36-cp36m-manylinux1_x86_64.whl (50.0MB)\n",
            "\u001b[K    100% |████████████████████████████████| 50.0MB 762kB/s \n",
            "\u001b[?25hCollecting Cython!=0.25.1,>=0.22 (from pystan)\n",
            "\u001b[?25l  Downloading https://files.pythonhosted.org/packages/64/3f/cac281f3f019b825bbc03fa8cb7eb03d9c355f4aa9eef978279a4966cb21/Cython-0.29-cp36-cp36m-manylinux1_x86_64.whl (2.1MB)\n",
            "\u001b[K    100% |████████████████████████████████| 2.1MB 13.4MB/s \n",
            "\u001b[?25hRequirement already satisfied: numpy>=1.7 in /usr/local/lib/python3.6/dist-packages (from pystan) (1.14.6)\n",
            "Installing collected packages: Cython, pystan\n",
            "Successfully installed Cython-0.29 pystan-2.18.0.0\n"
          ],
          "name": "stdout"
        }
      ]
    },
    {
      "metadata": {
        "id": "qQMAJWsUjQHP",
        "colab_type": "code",
        "colab": {}
      },
      "cell_type": "code",
      "source": [
        "import numpy as np\n",
        "import pandas as pd\n",
        "import matplotlib.pyplot as plt\n",
        "import pystan\n",
        "import seaborn\n",
        "from scipy.stats import mstats\n",
        "%matplotlib inline"
      ],
      "execution_count": 0,
      "outputs": []
    },
    {
      "metadata": {
        "id": "bLfundPej6H-",
        "colab_type": "text"
      },
      "cell_type": "markdown",
      "source": [
        "### ガウシアンプロセスサンプラー\n",
        "下記の式に従ってサンプリングを行うガウシアンプロセスサンプラー。\n",
        "\n",
        "#### 共分散関数\n",
        "\n",
        "$$\n",
        "{K(x|α,ρ)_{i,j} =α^2\\exp\\Big(−\\frac{1}{2ρ^2} \\sum_{d=1}^D(x_{i,d} −x_{j,d})^2\\Big)\n",
        "}\n",
        "$$\n",
        "\n",
        "　\n",
        " \n",
        "において、$a = 1$, $\\rho=1$ を適用し、\n",
        "\n",
        "　\n",
        " \n",
        "$$\n",
        "{K(x|1,1)_{i,j} =\\exp\\Big(−\\frac{1}{2} \\sum_{d=1}^D(x_{i,d} −x_{j,d})^2\\Big)\n",
        "}\n",
        "$$\n",
        "\n",
        "　\n",
        " \n",
        "とした共分散関数を利用します。ここで $i, j$ はそれぞれデータ数方向のindexであり、$d$ はベクトル型データの次元方向のindexです。\n",
        "\n",
        "#### 平均関数\n",
        "平均関数は $ 0$ ベクトルを利用します。\n",
        "\n",
        "#### ガウシアンプロセスサンプラー\n",
        "下記のガウシアンプロセスサンプラーを用います。 \n",
        "\n",
        "\n",
        "　\n",
        "\n",
        "\n",
        "$$\n",
        "\\begin{align}\n",
        "f(x) & =\\mathcal {GP} ({0}, K(x | \\alpha, \\rho)) \\\\\n",
        "y &\\sim \\mathcal N(f(x), 0.3)\n",
        "\\end{align}\n",
        "$$\n",
        "\n",
        "　\n",
        "\n",
        "\n",
        "ちなみに実際にサンプリングするときは有限の数のデータ $x$ を利用するので $\\mathcal f(x) = {GP}$ を二番目の式に代入してしまって、確率分布の計算を考えた場合には\n",
        "\n",
        "　\n",
        " \n",
        "$$\n",
        "y \\sim \\mathcal N({0}, K(x | \\alpha, \\rho) + 0.3I)\n",
        "$$\n",
        "\n",
        "　\n",
        " \n",
        "となることろ利用します。$I$ は単位行列で、元々の二番目の式の分だけ分散が大きくなる（共分散は変わらない）という雰囲気だけ…。"
      ]
    },
    {
      "metadata": {
        "id": "BIbvnvF1jgq9",
        "colab_type": "code",
        "colab": {}
      },
      "cell_type": "code",
      "source": [
        "stan_model = \"\"\"\n",
        "data {\n",
        "  int<lower=1> N;\n",
        "  real x[N];\n",
        "}\n",
        "\n",
        "transformed data {\n",
        "  matrix[N, N] K = cov_exp_quad(x, 1.0, 1.0);\n",
        "  vector[N] mu = rep_vector(0, N);\n",
        "  for (n in 1:N) \n",
        "    K[n, n] = K[n, n] + 0.3;\n",
        "}\n",
        "\n",
        "parameters {\n",
        "  vector[N] y;\n",
        "}\n",
        "\n",
        "model {\n",
        "  y ~ multi_normal(mu, K);\n",
        "}\n",
        "\"\"\""
      ],
      "execution_count": 0,
      "outputs": []
    },
    {
      "metadata": {
        "id": "UTJ12A0mlEGY",
        "colab_type": "code",
        "colab": {
          "base_uri": "https://localhost:8080/",
          "height": 91
        },
        "outputId": "0d5f635d-ea0b-49a7-f39f-e75c5b8f7e22"
      },
      "cell_type": "code",
      "source": [
        "sm = pystan.StanModel(model_code=stan_model)"
      ],
      "execution_count": 15,
      "outputs": [
        {
          "output_type": "stream",
          "text": [
            "INFO:pystan:COMPILING THE C++ CODE FOR MODEL anon_model_66b01db10e2bf62035a80c81f7695a54 NOW.\n",
            "/usr/local/lib/python3.6/dist-packages/Cython/Compiler/Main.py:367: FutureWarning: Cython directive 'language_level' not set, using 2 for now (Py2). This will change in a later release! File: /tmp/tmptyp_p_up/stanfit4anon_model_66b01db10e2bf62035a80c81f7695a54_4329639226961591462.pyx\n",
            "  tree = Parsing.p_module(s, pxd, full_module_name)\n"
          ],
          "name": "stderr"
        }
      ]
    },
    {
      "metadata": {
        "id": "vGaG0pjbn7es",
        "colab_type": "code",
        "colab": {}
      },
      "cell_type": "code",
      "source": [
        "x_data = np.linspace(-5, 5, 50)\n",
        "N_data = x_data.shape[0]\n",
        "y_sample = sm.sampling(iter=500, warmup=100, chains=3, seed=1992, \n",
        "                       data={'N': N_data, 'x': x_data})"
      ],
      "execution_count": 0,
      "outputs": []
    },
    {
      "metadata": {
        "id": "iRPmZPsQomcs",
        "colab_type": "code",
        "colab": {}
      },
      "cell_type": "code",
      "source": [
        "y_data = y_sample.extract(\"y\")[\"y\"]"
      ],
      "execution_count": 0,
      "outputs": []
    },
    {
      "metadata": {
        "id": "8DKnoTIYuaGk",
        "colab_type": "text"
      },
      "cell_type": "markdown",
      "source": [
        "#### サンプルを可視化\n",
        "合計で1200個のサンプルが得られました。\n",
        "\n",
        "適当に何個かを選んで見てみましょう。"
      ]
    },
    {
      "metadata": {
        "id": "wwcNHmeAqaMT",
        "colab_type": "code",
        "colab": {
          "base_uri": "https://localhost:8080/",
          "height": 35
        },
        "outputId": "3098f3ae-4f9e-4afa-fdda-7edc794ef272"
      },
      "cell_type": "code",
      "source": [
        "y_data.shape\n"
      ],
      "execution_count": 18,
      "outputs": [
        {
          "output_type": "execute_result",
          "data": {
            "text/plain": [
              "(1200, 50)"
            ]
          },
          "metadata": {
            "tags": []
          },
          "execution_count": 18
        }
      ]
    },
    {
      "metadata": {
        "id": "H9Ruiz4Wqc9O",
        "colab_type": "code",
        "colab": {
          "base_uri": "https://localhost:8080/",
          "height": 483
        },
        "outputId": "03cd4878-6021-4007-dd3a-0e51e29a47cb"
      },
      "cell_type": "code",
      "source": [
        "plt.figure(figsize=(16, 8))\n",
        "for i in range(4):\n",
        "    plt.subplot(2, 2, i+1)\n",
        "    plt.scatter(x_data, y_data[i, :])"
      ],
      "execution_count": 29,
      "outputs": [
        {
          "output_type": "display_data",
          "data": {
            "image/png": "[encoded data removed]",
            "text/plain": [
              "<matplotlib.figure.Figure at 0x7f7a7d7dffd0>"
            ]
          },
          "metadata": {
            "tags": []
          }
        }
      ]
    },
    {
      "metadata": {
        "id": "ChlyQFj0sZfV",
        "colab_type": "text"
      },
      "cell_type": "markdown",
      "source": [
        "### ガウシアンプロセス回帰\n",
        "上記のガウシアンプロセスサンプラーでは勝手に共分散関数 $K(x|\\alpha, \\rho)$ を勝手に決めて、サンプリングを行いました。実際のデータの生成プロセスは、まさかこんな再生核ヒルベルト空間を介して出てきているわけがありませんので、これは単にガウシアンプロセスを見るための例題です。もう一度式を見ましょう。\n",
        "\n",
        "\n",
        "　\n",
        " \n",
        " $$\n",
        "\\begin{align}\n",
        "f(x) & =\\mathcal {GP} ({0}, K(x | \\alpha, \\rho)) \\\\\n",
        "y &\\sim \\mathcal N(f(x), 1)\n",
        "\\end{align}\n",
        "$$\n",
        "\n",
        "\n",
        " 　\n",
        "  \n",
        "  \n",
        " \n",
        " 重要なのは、何らかの生成プロセスを通して観測したデータ $(x, y)^N$ に対して、ガウシアンプロセスで回帰を行う場合は、共分散関数 $\\alpha, \\rho$ を上手く調整ししてやることになります（なぜならガウシアンプロセスサンプラーが発生するデータは、これらのパラメータに依存しているため）。\n",
        " \n",
        " より一般的には、観測時のノイズ もパラメータ化して\n",
        " \n",
        " 　\n",
        "  \n",
        " $$\n",
        "\\begin{align}\n",
        "f(x) & =\\mathcal {GP} ({0}, K(x | \\alpha, \\rho)) \\\\\n",
        "y &\\sim \\mathcal N(f(x), \\sigma^2)\n",
        "\\end{align}\n",
        "$$\n",
        "\n",
        "　\n",
        " \n",
        " とします。更に事前分布としてパラメータには下記のような分布を敷いておきましょう。特に何も仮定したくなければ無情報事前分布を敷いておけばいいです。\n",
        " \n",
        " 　\n",
        " \n",
        " $$\n",
        " \\begin{align}\n",
        " \\rho &\\sim \\mathcal {InvGamma} (1, 1) \\\\\n",
        " \\alpha & \\sim \\mathcal N(0, 1) \\\\\n",
        " \\rho & \\sim \\mathcal N(0, 1) \\\\\n",
        " \\end{align}\n",
        " $$\n",
        " \n",
        " 　\n",
        "  \n",
        "  "
      ]
    },
    {
      "metadata": {
        "id": "qt36rumOxslC",
        "colab_type": "code",
        "colab": {}
      },
      "cell_type": "code",
      "source": [
        "stan_model_fit = \"\"\"\n",
        "data {\n",
        "  int<lower=1> N;\n",
        "  real x[N];\n",
        "  vector[N] y;\n",
        "}\n",
        "\n",
        "transformed data {\n",
        "  vector[N] mu = rep_vector(0, N);\n",
        "}\n",
        "\n",
        "parameters {\n",
        "  real<lower=0> rho;\n",
        "  real<lower=0> alpha;\n",
        "  real<lower=0> sigma;\n",
        "}\n",
        "\n",
        "model {\n",
        "  matrix[N, N] L_K;\n",
        "  matrix[N, N] K = cov_exp_quad(x, alpha, rho);\n",
        "  real sq_sigma = square(sigma);\n",
        "\n",
        "  // diagonal elements\n",
        "  for (n in 1:N)\n",
        "    K[n, n] = K[n, n] + sq_sigma;\n",
        "  \n",
        "  L_K = cholesky_decompose(K);\n",
        "  \n",
        "  rho ~ inv_gamma(5, 5);\n",
        "  alpha ~ normal(0, 1);\n",
        "  sigma ~ normal(0, 1);\n",
        "\n",
        "  y ~ multi_normal_cholesky(mu, L_K);\n",
        "}\n",
        "\"\"\""
      ],
      "execution_count": 0,
      "outputs": []
    },
    {
      "metadata": {
        "id": "4_E5291jyovs",
        "colab_type": "text"
      },
      "cell_type": "markdown",
      "source": [
        "#### 補足事項\n",
        "気づいた方もいるかもしれませんが、`cholesky_decompose`という文言が入っています。これは、共分散関数（有限データに対して分散共分散行列）は対称行列ですので、実際 $N \\times N$ の行列を保持する意味はありません。兎にも角にも、メモリや計算量を節約しているという認識でいいでしょう。`multi_normal_cholesky`の部分ではコレスキー分解された共分散関数を渡すという約束です（こいつも計算量を節約したガウス分布と思って構わない）。"
      ]
    },
    {
      "metadata": {
        "id": "1pqD7Qlu5rcQ",
        "colab_type": "text"
      },
      "cell_type": "markdown",
      "source": [
        "### パラメータの事後分布表示"
      ]
    },
    {
      "metadata": {
        "id": "Vv76N0lFzZNK",
        "colab_type": "code",
        "colab": {
          "base_uri": "https://localhost:8080/",
          "height": 91
        },
        "outputId": "1b50a850-71d9-4327-c2d1-8268d33d97ce"
      },
      "cell_type": "code",
      "source": [
        "sm_fit = pystan.StanModel(model_code=stan_model_fit)"
      ],
      "execution_count": 70,
      "outputs": [
        {
          "output_type": "stream",
          "text": [
            "INFO:pystan:COMPILING THE C++ CODE FOR MODEL anon_model_57d3fcd935a2af9ccbdd75d872c99b40 NOW.\n",
            "/usr/local/lib/python3.6/dist-packages/Cython/Compiler/Main.py:367: FutureWarning: Cython directive 'language_level' not set, using 2 for now (Py2). This will change in a later release! File: /tmp/tmp81r22676/stanfit4anon_model_57d3fcd935a2af9ccbdd75d872c99b40_5820035884268912099.pyx\n",
            "  tree = Parsing.p_module(s, pxd, full_module_name)\n"
          ],
          "name": "stderr"
        }
      ]
    },
    {
      "metadata": {
        "id": "2yEJ2Dugzktg",
        "colab_type": "code",
        "colab": {}
      },
      "cell_type": "code",
      "source": [
        "fit = sm_fit.sampling(iter=2000, warmup=500, chains=3, seed=1992, \n",
        "                           data={'N': N_data, 'x': x_data, 'y': y_data[0, :] })"
      ],
      "execution_count": 0,
      "outputs": []
    },
    {
      "metadata": {
        "id": "2xwkUquT0SFm",
        "colab_type": "code",
        "colab": {}
      },
      "cell_type": "code",
      "source": [
        "rho = fit.extract('rho')['rho']\n",
        "alpha = fit.extract('alpha')['alpha']\n",
        "sigma = fit.extract('sigma')['sigma']"
      ],
      "execution_count": 0,
      "outputs": []
    },
    {
      "metadata": {
        "id": "drKu47ef5vgw",
        "colab_type": "text"
      },
      "cell_type": "markdown",
      "source": [
        "#### $\\rho$ の事後分布\n",
        "データを生成したガウシアンプロセスサンプラーは $1.0$ を設定していたのでした。"
      ]
    },
    {
      "metadata": {
        "id": "k7CXgd7304fW",
        "colab_type": "code",
        "colab": {
          "base_uri": "https://localhost:8080/",
          "height": 409
        },
        "outputId": "8931d0af-5de5-4ea0-c936-6dde8ae2b8d8"
      },
      "cell_type": "code",
      "source": [
        "plt.hist(rho, bins=20)"
      ],
      "execution_count": 83,
      "outputs": [
        {
          "output_type": "execute_result",
          "data": {
            "text/plain": [
              "(array([  7.,  39., 144., 290., 536., 638., 737., 657., 476., 386., 241.,\n",
              "        157.,  86.,  52.,  23.,  15.,  10.,   1.,   1.,   4.]),\n",
              " array([0.50965356, 0.59919903, 0.68874451, 0.77828998, 0.86783546,\n",
              "        0.95738093, 1.04692641, 1.13647188, 1.22601736, 1.31556283,\n",
              "        1.40510831, 1.49465379, 1.58419926, 1.67374474, 1.76329021,\n",
              "        1.85283569, 1.94238116, 2.03192664, 2.12147211, 2.21101759,\n",
              "        2.30056306]),\n",
              " <a list of 20 Patch objects>)"
            ]
          },
          "metadata": {
            "tags": []
          },
          "execution_count": 83
        },
        {
          "output_type": "display_data",
          "data": {
            "image/png": "[encoded data removed]",
            "text/plain": [
              "<matplotlib.figure.Figure at 0x7f7a788da898>"
            ]
          },
          "metadata": {
            "tags": []
          }
        }
      ]
    },
    {
      "metadata": {
        "id": "4f2ob0jl58cd",
        "colab_type": "text"
      },
      "cell_type": "markdown",
      "source": [
        "#### $\\alpha$ の事後分布\n",
        "データを生成したガウシアンプロセスサンプラーは $1.0$ を設定していたのでした。"
      ]
    },
    {
      "metadata": {
        "id": "NpZ43e9C4x7V",
        "colab_type": "code",
        "colab": {
          "base_uri": "https://localhost:8080/",
          "height": 409
        },
        "outputId": "1bda547b-8e45-4657-c8b7-0eff15b06463"
      },
      "cell_type": "code",
      "source": [
        "plt.hist(alpha, bins=20)"
      ],
      "execution_count": 84,
      "outputs": [
        {
          "output_type": "execute_result",
          "data": {
            "text/plain": [
              "(array([ 30., 208., 554., 808., 810., 713., 511., 335., 224., 136.,  71.,\n",
              "         53.,  20.,  16.,   7.,   1.,   0.,   0.,   2.,   1.]),\n",
              " array([0.593113  , 0.72936973, 0.86562646, 1.00188319, 1.13813992,\n",
              "        1.27439666, 1.41065339, 1.54691012, 1.68316685, 1.81942358,\n",
              "        1.95568031, 2.09193704, 2.22819377, 2.3644505 , 2.50070723,\n",
              "        2.63696396, 2.77322069, 2.90947743, 3.04573416, 3.18199089,\n",
              "        3.31824762]),\n",
              " <a list of 20 Patch objects>)"
            ]
          },
          "metadata": {
            "tags": []
          },
          "execution_count": 84
        },
        {
          "output_type": "display_data",
          "data": {
            "image/png": "[encoded data removed]",
            "text/plain": [
              "<matplotlib.figure.Figure at 0x7f7a75b6e3c8>"
            ]
          },
          "metadata": {
            "tags": []
          }
        }
      ]
    },
    {
      "metadata": {
        "id": "4yyTr7GF6Cgm",
        "colab_type": "text"
      },
      "cell_type": "markdown",
      "source": [
        "#### $\\sigma$ の事後分布\n",
        "データを生成したガウシアンプロセスサンプラーは $0.3$ を設定していたのでした。\n",
        "少し高めに出ているように見えますね。"
      ]
    },
    {
      "metadata": {
        "id": "Kaam3MPJ4zdQ",
        "colab_type": "code",
        "colab": {
          "base_uri": "https://localhost:8080/",
          "height": 409
        },
        "outputId": "a31982d4-2c93-4404-900a-d81836323afe"
      },
      "cell_type": "code",
      "source": [
        "plt.hist(sigma, bins=20)"
      ],
      "execution_count": 86,
      "outputs": [
        {
          "output_type": "execute_result",
          "data": {
            "text/plain": [
              "(array([  7.,  59., 209., 437., 720., 794., 792., 600., 385., 245., 125.,\n",
              "         60.,  32.,  21.,   8.,   5.,   0.,   0.,   0.,   1.]),\n",
              " array([0.40476331, 0.43638268, 0.46800205, 0.49962142, 0.5312408 ,\n",
              "        0.56286017, 0.59447954, 0.62609892, 0.65771829, 0.68933766,\n",
              "        0.72095704, 0.75257641, 0.78419578, 0.81581516, 0.84743453,\n",
              "        0.8790539 , 0.91067328, 0.94229265, 0.97391202, 1.00553139,\n",
              "        1.03715077]),\n",
              " <a list of 20 Patch objects>)"
            ]
          },
          "metadata": {
            "tags": []
          },
          "execution_count": 86
        },
        {
          "output_type": "display_data",
          "data": {
            "image/png": "[encoded data removed]",
            "text/plain": [
              "<matplotlib.figure.Figure at 0x7f7a7cf89470>"
            ]
          },
          "metadata": {
            "tags": []
          }
        }
      ]
    },
    {
      "metadata": {
        "id": "RbILZ6Bb46Av",
        "colab_type": "code",
        "colab": {}
      },
      "cell_type": "code",
      "source": [
        ""
      ],
      "execution_count": 0,
      "outputs": []
    }
  ]
}